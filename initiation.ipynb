{
 "cells": [
  {
   "cell_type": "markdown",
   "metadata": {},
   "source": [
    "# Faire des cahiers électroniques en Python\n",
    "\n",
    "[Jupyter](http://jupyter.org/) est une application permettant de construire des cahiers électroniques (notebook) mélangeant documents formattés, code Python, graphiques et formules mathématiques. Les notebooks sont des fichiers avec l'extension .ipynb et sont partageables facilement par email et sur Internet.\n",
    "\n",
    "Ce document est lui-même un cahier électronique."
   ]
  },
  {
   "cell_type": "markdown",
   "metadata": {},
   "source": [
    "## Lancer un notebook Jupyter\n",
    "\n",
    "Ouvrir un terminale et tapper '''jupyter notebook'''.  \n",
    "Créer un nouveau notebook en cliquant new. Un nouveau notebook vide apparaît.\n",
    "Commencer par nommer votre notebook en remplacant Untitled par un nom pour votre document.\n",
    "\n",
    "![Nouveau notebook Jupyter](http://community.datacamp.com.s3.amazonaws.com/community/production/ckeditor_assets/pictures/200/content_jupyternotebook3b.gif)\n",
    "\n",
    "Un notebook est constitué de cellules (cells). Il y a principalement deux types de cellules: des **cellules de texte formatté** et des **cellules de code**. Vous pouvez ajouter de nouvelles cellules en cliquant sur l'icone **+**.\n",
    "\n",
    "Il est possible de choisir le type d'une cellule dans la barre de menu. Choisir **Markdown** pour un document texte, **code** pour du code Python.\n",
    "\n",
    "Une fois que vous avez écrit un notebook composé de texte et de code, il est possible de l'exécuter en choissant run. Il est possible d'exécuter toutes les cellules ou seulement la cellule que vous êtes en train d'éditer."
   ]
  },
  {
   "cell_type": "markdown",
   "metadata": {},
   "source": [
    "## Cellules textes\n",
    "\n",
    "Les cellules de textes sont formatés en utilisant un langage de balisage appellé Markdown.\n",
    "Les titres sont par exemple formattés de la manière qui suit:\n",
    "\n",
    "```txt\n",
    "# Titre de niveau 1\n",
    "## Titre de niveau 2\n",
    "### Titre de niveau 3\n",
    "```\n",
    "\n",
    "Si on veut mettre une phrase ou un ensemble de mots en gras, on entoure les mots avec des 2 étoiles:\n",
    "\n",
    "```txt\n",
    "Hello **world**\n",
    "```\n",
    "On peut faire un lien vers un site web en utilisant la syntaxe suivante:\n",
    "\n",
    "```txt\n",
    "Ceci est un [lien vers github](https://www.github.com)\n",
    "```\n",
    "\n",
    "La syntaxe de Markdown est décrite ici: https://github.com/adam-p/markdown-here/wiki/Markdown-Cheatsheet\n",
    "\n",
    "**Exercice : Essayer de constuire un notebook comportant du texte, des images, des liens vers des sites webs ainsi que des tableaux.**\n"
   ]
  },
  {
   "cell_type": "markdown",
   "metadata": {},
   "source": [
    "## Écrire des formules mathématiques avec LaTeX\n",
    "\n",
    "\n",
    "Il est également possible d'insérer des formules mathématiques dans votre texte ainsi que des documents HTML.\n",
    "\n",
    "Si par exemple, vous insérez le texte suivant dans une cellule vide :\n",
    "\n",
    "```latex\n",
    "$e^x=\\sum_{i=0}^\\infty \\frac{1}{i!}x^i$\n",
    "```\n",
    "\n",
    "Vous verrez le résultat suivant:\n",
    "\n",
    "$$e^x=\\sum_{i=0}^\\infty \\frac{1}{i!}x^i$$\n",
    "\n",
    "Voici des exemples plus complexes.\n",
    "\n",
    "```latex\n",
    "$$\n",
    "\\frac{1}{\\Bigl(\\sqrt{\\phi \\sqrt{5}}-\\phi\\Bigr) e^{\\frac25 \\pi}} =\n",
    "1+\\frac{e^{-2\\pi}} {1+\\frac{e^{-4\\pi}} {1+\\frac{e^{-6\\pi}}\n",
    "{1+\\frac{e^{-8\\pi}} {1+\\ldots} } } }\n",
    "$$```\n",
    "\n",
    "$$\n",
    "\\frac{1}{\\Bigl(\\sqrt{\\phi \\sqrt{5}}-\\phi\\Bigr) e^{\\frac25 \\pi}} =\n",
    "1+\\frac{e^{-2\\pi}} {1+\\frac{e^{-4\\pi}} {1+\\frac{e^{-6\\pi}}\n",
    "{1+\\frac{e^{-8\\pi}} {1+\\ldots} } } }\n",
    "$$\n",
    "\n",
    "Le langage pour écrire des formules mathématiques est LaTeX. LaTeX est un langage très puissant qui permet de construire des documents de qualités. Vous trouverez une introduction rapide ici sur la partie permettant de faire des formules mathématiques avec LaTeX ici : https://openclassrooms.com/courses/redigez-des-documents-de-qualite-avec-latex/les-mathematiques\n"
   ]
  },
  {
   "cell_type": "markdown",
   "metadata": {},
   "source": [
    "## Cellules de code\n",
    "\n",
    "Il est possible d'écrire du code Python (ou autre) dans une cellule de code.\n",
    "\n",
    "Ecrivons dans une cellule par exemple:\n",
    "\n",
    "```python\n",
    "3+4\n",
    "```\n",
    "\n",
    "On obtient le résultat du code lorsqu'on exécute la cellule juste en dessous de la cellule."
   ]
  },
  {
   "cell_type": "code",
   "execution_count": 1,
   "metadata": {},
   "outputs": [
    {
     "data": {
      "text/plain": [
       "7"
      ]
     },
     "execution_count": 1,
     "metadata": {},
     "output_type": "execute_result"
    }
   ],
   "source": [
    "3+4"
   ]
  },
  {
   "cell_type": "markdown",
   "metadata": {},
   "source": [
    "Il est possible d'exécuter un code Python complexe composé de fonctions."
   ]
  },
  {
   "cell_type": "code",
   "execution_count": 2,
   "metadata": {},
   "outputs": [
    {
     "data": {
      "text/plain": [
       "3628800"
      ]
     },
     "execution_count": 2,
     "metadata": {},
     "output_type": "execute_result"
    }
   ],
   "source": [
    "def factoriel(n):\n",
    "    if n == 0:\n",
    "        return 1\n",
    "    else:\n",
    "        return n * factoriel(n-1)\n",
    "\n",
    "factoriel(10)"
   ]
  },
  {
   "cell_type": "code",
   "execution_count": 3,
   "metadata": {},
   "outputs": [
    {
     "data": {
      "text/plain": [
       "93326215443944152681699238856266700490715968264381621468592963895217599993229915608941463976156518286253697920827223758251185210916864000000000000000000000000"
      ]
     },
     "execution_count": 3,
     "metadata": {},
     "output_type": "execute_result"
    }
   ],
   "source": [
    "factoriel(100)"
   ]
  },
  {
   "cell_type": "markdown",
   "metadata": {},
   "source": [
    "# Utiliser Numpy et Matplotlib\n",
    "\n",
    "Il est également possible d'utiliser des bibiothèques python telles que \n",
    "- [Matplotlib](http://matplotlib.org) pour visualiser des graphiques et\n",
    "- [Numpy](https://numpy.org/) pour faire du calcul scientifique."
   ]
  },
  {
   "cell_type": "markdown",
   "metadata": {},
   "source": [
    "## Dessiner des courbes"
   ]
  },
  {
   "cell_type": "code",
   "execution_count": 4,
   "metadata": {},
   "outputs": [
    {
     "data": {
      "image/png": "[encoded data removed]",
      "text/plain": [
       "<Figure size 432x288 with 1 Axes>"
      ]
     },
     "metadata": {
      "needs_background": "light"
     },
     "output_type": "display_data"
    }
   ],
   "source": [
    "%matplotlib inline\n",
    "import matplotlib.pyplot as plt\n",
    "\n",
    "X=[-4,-3,-2,-1,0,1,2,3,4]\n",
    "Y=[16,9,4,1,0,1,4,9,16]\n",
    "plt.plot(X,Y)\n",
    "plt.xlabel(\"X\")\n",
    "plt.ylabel(\"Y\")\n",
    "plt.show()"
   ]
  },
  {
   "cell_type": "markdown",
   "metadata": {},
   "source": [
    "Afin que la fenêtre matplotlib soit inséré dans le notebook il faut mettre au début du code: %matplotlib inline.\n",
    "Il est également possible d'avoir des interactions plus sophistiquées avec la figure en ajoutant : %matplotlib notebook"
   ]
  },
  {
   "cell_type": "code",
   "execution_count": 5,
   "metadata": {},
   "outputs": [
    {
     "name": "stdout",
     "output_type": "stream",
     "text": [
      "[-6.28318531 -6.15625227 -6.02931923 -5.9023862  -5.77545316 -5.64852012\n",
      " -5.52158709 -5.39465405 -5.26772102 -5.14078798 -5.01385494 -4.88692191\n",
      " -4.75998887 -4.63305583 -4.5061228  -4.37918976 -4.25225672 -4.12532369\n",
      " -3.99839065 -3.87145761 -3.74452458 -3.61759154 -3.4906585  -3.36372547\n",
      " -3.23679243 -3.10985939 -2.98292636 -2.85599332 -2.72906028 -2.60212725\n",
      " -2.47519421 -2.34826118 -2.22132814 -2.0943951  -1.96746207 -1.84052903\n",
      " -1.71359599 -1.58666296 -1.45972992 -1.33279688 -1.20586385 -1.07893081\n",
      " -0.95199777 -0.82506474 -0.6981317  -0.57119866 -0.44426563 -0.31733259\n",
      " -0.19039955 -0.06346652  0.06346652  0.19039955  0.31733259  0.44426563\n",
      "  0.57119866  0.6981317   0.82506474  0.95199777  1.07893081  1.20586385\n",
      "  1.33279688  1.45972992  1.58666296  1.71359599  1.84052903  1.96746207\n",
      "  2.0943951   2.22132814  2.34826118  2.47519421  2.60212725  2.72906028\n",
      "  2.85599332  2.98292636  3.10985939  3.23679243  3.36372547  3.4906585\n",
      "  3.61759154  3.74452458  3.87145761  3.99839065  4.12532369  4.25225672\n",
      "  4.37918976  4.5061228   4.63305583  4.75998887  4.88692191  5.01385494\n",
      "  5.14078798  5.26772102  5.39465405  5.52158709  5.64852012  5.77545316\n",
      "  5.9023862   6.02931923  6.15625227  6.28318531]\n"
     ]
    }
   ],
   "source": [
    "import numpy as np\n",
    "x = np.linspace(-2*np.pi, 2*np.pi, 100)\n",
    "print(x)"
   ]
  },
  {
   "cell_type": "markdown",
   "metadata": {},
   "source": [
    "La fonction ``linspace`` de la librairie ``NumPy`` permet ici de créer un tableau de 100 valeurs réélles variant de $-2\\pi$ à $2\\pi$ (inclus).  \n",
    "`np.cos(x)` retourne un tableau de 100 valeurs contenant le résultat de l'application de la fonction ``cos(x)`` sur chacune des valeurs du tableau `x`."
   ]
  },
  {
   "cell_type": "code",
   "execution_count": 6,
   "metadata": {},
   "outputs": [
    {
     "data": {
      "image/png": "[encoded data removed]",
      "text/plain": [
       "<Figure size 432x288 with 1 Axes>"
      ]
     },
     "metadata": {
      "needs_background": "light"
     },
     "output_type": "display_data"
    }
   ],
   "source": [
    "import matplotlib.pyplot as plt\n",
    "\n",
    "cosx = np.cos(x)\n",
    "sinx = np.sin(x)\n",
    "plt.plot(x, cosx)\n",
    "plt.plot(x, sinx)\n",
    "plt.legend([\"cosinus\",\"sinus\"])\n",
    "plt.show()"
   ]
  },
  {
   "cell_type": "markdown",
   "metadata": {},
   "source": [
    "## Dessiner des [histogrammes](https://fr.wikipedia.org/wiki/Histogramme)"
   ]
  },
  {
   "cell_type": "code",
   "execution_count": 7,
   "metadata": {},
   "outputs": [
    {
     "data": {
      "image/png": "[encoded data removed]",
      "text/plain": [
       "<Figure size 432x288 with 1 Axes>"
      ]
     },
     "metadata": {
      "needs_background": "light"
     },
     "output_type": "display_data"
    }
   ],
   "source": [
    "mu = 100  # mean of distribution\n",
    "sigma = 50  # standard deviation of distribution\n",
    "V = mu + sigma * np.random.randn(2000)\n",
    "num_bins = 50\n",
    "\n",
    "plt.hist(V, num_bins)\n",
    "plt.xlabel(\"valeur\")\n",
    "plt.ylabel(\"\")\n",
    "plt.show()"
   ]
  },
  {
   "cell_type": "markdown",
   "metadata": {},
   "source": [
    "```np.random.randn(2000)``` crée un tableau de 2000 valeurs flotantes générées (pseudo-)aléatoirement en suivant une loi normale standard."
   ]
  },
  {
   "cell_type": "markdown",
   "metadata": {},
   "source": [
    "## Créer des tableaux en 2D et les visuliser"
   ]
  },
  {
   "cell_type": "code",
   "execution_count": 8,
   "metadata": {},
   "outputs": [
    {
     "name": "stdout",
     "output_type": "stream",
     "text": [
      "[[0. 0. 0. 0.]\n",
      " [0. 0. 0. 0.]\n",
      " [0. 0. 0. 0.]\n",
      " [0. 0. 0. 0.]\n",
      " [0. 0. 0. 0.]]\n",
      "[[0.5 0.  0.  0. ]\n",
      " [0.  0.  0.2 0. ]\n",
      " [0.  0.  0.  0.7]\n",
      " [0.  0.  0.  0. ]\n",
      " [1.  0.  0.  0. ]]\n"
     ]
    }
   ],
   "source": [
    "A=np.zeros((5,4))\n",
    "print(A)\n",
    "\n",
    "A[0,0]=0.5\n",
    "A[1,2]=0.2\n",
    "A[2,3]=0.7\n",
    "A[4,0]=1\n",
    "print(A)"
   ]
  },
  {
   "cell_type": "markdown",
   "metadata": {},
   "source": [
    "```np.zeros((5,4))``` permet de créer un tableau en deux dimensions de 5 par 4 valeurs initialisées à 0. Les valeurs peuvent ensuite être accédées et modifiées."
   ]
  },
  {
   "cell_type": "code",
   "execution_count": 9,
   "metadata": {},
   "outputs": [
    {
     "data": {
      "image/png": "[encoded data removed]",
      "text/plain": [
       "<Figure size 432x288 with 2 Axes>"
      ]
     },
     "metadata": {
      "needs_background": "light"
     },
     "output_type": "display_data"
    }
   ],
   "source": [
    "plt.imshow(A, cmap='hot')\n",
    "plt.colorbar()\n",
    "plt.show()"
   ]
  },
  {
   "cell_type": "code",
   "execution_count": 10,
   "metadata": {},
   "outputs": [
    {
     "name": "stdout",
     "output_type": "stream",
     "text": [
      "[[3.76374802e-01 8.55596632e-01 7.47172571e-01 5.32778002e-01\n",
      "  5.90358797e-01]\n",
      " [5.54901185e-01 2.72527381e-01 5.11935602e-01 8.15906646e-02\n",
      "  1.73878308e-01]\n",
      " [3.47466606e-05 5.24697484e-01 9.92542737e-01 7.46974759e-01\n",
      "  1.22164716e-01]\n",
      " [1.93871599e-01 1.49550046e-01 4.06789736e-01 4.48984521e-01\n",
      "  4.10789313e-01]\n",
      " [8.05298067e-01 4.29407943e-01 3.39583668e-01 9.68963226e-02\n",
      "  3.61618510e-02]]\n"
     ]
    }
   ],
   "source": [
    "B = np.random.random((5, 5))\n",
    "print(B)"
   ]
  },
  {
   "cell_type": "markdown",
   "metadata": {},
   "source": [
    "```np.random.random((5, 5))``` permet de créer un tableau en deux dimensions contenant des valeurs générées (pseudo-)aléatoirement de manière uniforme entre 0 et 1."
   ]
  },
  {
   "cell_type": "code",
   "execution_count": 11,
   "metadata": {},
   "outputs": [
    {
     "data": {
      "image/png": "[encoded data removed]",
      "text/plain": [
       "<Figure size 432x288 with 2 Axes>"
      ]
     },
     "metadata": {
      "needs_background": "light"
     },
     "output_type": "display_data"
    }
   ],
   "source": [
    "plt.imshow(B, cmap='hot')\n",
    "plt.colorbar()\n",
    "plt.show()"
   ]
  },
  {
   "cell_type": "markdown",
   "metadata": {},
   "source": [
    "# Pour aller plus loin\n",
    "\n",
    "Avec matplotlib, des [graphiques en 3d](https://matplotlib.org/mpl_toolkits/mplot3d/tutorial.html) et des [animations](https://courspython.com/animation-matplotlib.html) sont également possibles.\n",
    "\n",
    "- [Ressource supplémentaire matplotlib](https://nbviewer.jupyter.org/github/jrjohansson/scientific-python-lectures/blob/master/Lecture-4-Matplotlib.ipynb)\n",
    "- [Ressource supplémentaire numpy](https://github.com/jrjohansson/scientific-python-lectures/blob/master/Lecture-2-Numpy.ipynb)\n",
    "\n",
    "# Utiliser tkinter\n",
    "\n",
    "La bibliothèque [tkinter](http://fsincere.free.fr/isn/python/cours_python_tkinter.php) permet de créer des interfaces graphiques."
   ]
  },
  {
   "cell_type": "code",
   "execution_count": 12,
   "metadata": {},
   "outputs": [],
   "source": [
    "import tkinter as tk\n",
    "\n",
    "LARGEUR = 500\n",
    "HAUTEUR = 500\n",
    "RAYON = 10\n",
    "n=50\n",
    "SPEED=5\n",
    "\n",
    "# position initiale des balles\n",
    "X = []\n",
    "Y = []\n",
    "for i in range(n):\n",
    "    X.append(LARGEUR*np.random.rand())\n",
    "    Y.append(HAUTEUR*np.random.rand())\n",
    "\n",
    "# direction initiale des balles\n",
    "DX = []\n",
    "DY = []\n",
    "for i in range(n):\n",
    "    angle = 2*np.pi*np.random.rand()\n",
    "    DX.append(np.cos(angle))\n",
    "    DY.append(np.sin(angle))\n",
    "\n",
    "# Creation de la fenetre principale\n",
    "Mafenetre = tk.Tk()\n",
    "Mafenetre.title(\"Animation Balle\")\n",
    "\n",
    "# Creation d'un widget Canvas\n",
    "Canevas = tk.Canvas(Mafenetre,height=HAUTEUR,width=LARGEUR,bg='white')\n",
    "Canevas.pack(padx=5,pady=5)\n",
    "\n",
    "# Creation d'un objet graphique\n",
    "Balle=[]\n",
    "for i in range(n):\n",
    "    Balle.append(Canevas.create_oval(X[i]-RAYON,Y[i]-RAYON,X[i]+RAYON,Y[i]+RAYON,width=1,fill='green'))\n",
    "\n",
    "# Création d'un widget vitesse\n",
    "speed = tk.StringVar()\n",
    "speed.set(SPEED)\n",
    "widget_speed = tk.Scale(Mafenetre,from_=0,to=30,resolution=1,orient=tk.HORIZONTAL,\\\n",
    "length=300,width=20,label=\"Vitesse\",tickinterval=0.2,variable=speed)#,command=maj)\n",
    "widget_speed.pack(padx=10,pady=10)\n",
    "\n",
    "def deplacement():\n",
    "    \"\"\" Deplacement de la balle \"\"\"\n",
    "    for i in range(n):\n",
    "        dx=DX[i]*float(speed.get())\n",
    "        dy=DY[i]*float(speed.get())\n",
    "        # rebond a droite\n",
    "        if X[i]+RAYON+dx > LARGEUR:\n",
    "            X[i] = 2*(LARGEUR-RAYON)-X[i]\n",
    "            DX[i] = -DX[i]\n",
    "        # rebond a gauche\n",
    "        if X[i]-RAYON+dx < 0:\n",
    "            X[i] = 2*RAYON-X[i]\n",
    "            DX[i] = -DX[i]\n",
    "        # rebond en bas\n",
    "        if Y[i]+RAYON+dy > HAUTEUR:\n",
    "            Y[i] = 2*(HAUTEUR-RAYON)-Y[i]\n",
    "            DY[i] = -DY[i]\n",
    "        # rebond en haut\n",
    "        if Y[i]-RAYON+dy < 0:\n",
    "            Y[i] = 2*RAYON-Y[i]\n",
    "            DY[i] = -DY[i]\n",
    "        X[i] = X[i]+DX[i]*float(speed.get())\n",
    "        Y[i] = Y[i]+DY[i]*float(speed.get())\n",
    "        # affichage\n",
    "        Canevas.coords(Balle[i],X[i]-RAYON,Y[i]-RAYON,X[i]+RAYON,Y[i]+RAYON)\n",
    "    # mise a jour toutes les 50 ms\n",
    "    Mafenetre.after(50,deplacement)\n",
    "\n",
    "deplacement()\n",
    "Mafenetre.mainloop()"
   ]
  }
 ],
 "metadata": {
  "kernelspec": {
   "display_name": "Python 3",
   "language": "python",
   "name": "python3"
  },
  "language_info": {
   "codemirror_mode": {
    "name": "ipython",
    "version": 3
   },
   "file_extension": ".py",
   "mimetype": "text/x-python",
   "name": "python",
   "nbconvert_exporter": "python",
   "pygments_lexer": "ipython3",
   "version": "3.7.4"
  }
 },
 "nbformat": 4,
 "nbformat_minor": 2
}
